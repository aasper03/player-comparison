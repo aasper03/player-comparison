{
 "cells": [
  {
   "cell_type": "markdown",
   "metadata": {
    "collapsed": false,
    "pycharm": {
     "name": "#%% md\n"
    }
   },
   "source": [
    "Import statements"
   ]
  },
  {
   "cell_type": "code",
   "execution_count": 2,
   "metadata": {
    "collapsed": true,
    "pycharm": {
     "name": "#%%\n"
    }
   },
   "outputs": [],
   "source": [
    "from selenium import webdriver\n",
    "from selenium.webdriver.common.by import By\n",
    "from selenium.webdriver.support.select import Select\n",
    "import csv"
   ]
  },
  {
   "cell_type": "code",
   "execution_count": 8,
   "metadata": {
    "collapsed": false,
    "pycharm": {
     "is_executing": true,
     "name": "#%%\n"
    }
   },
   "outputs": [
    {
     "name": "stderr",
     "output_type": "stream",
     "text": [
      "C:\\Users\\Andrew\\AppData\\Local\\Temp\\ipykernel_6656\\3689204258.py:1: DeprecationWarning: executable_path has been deprecated, please pass in a Service object\n",
      "  driver = webdriver.Chrome('D:/Documents/player-comparison/chromedriver.exe')\n"
     ]
    },
    {
     "name": "stdout",
     "output_type": "stream",
     "text": [
      "Milwaukee Bucks Luca Vildoza\n"
     ]
    }
   ],
   "source": [
    "driver = webdriver.Chrome('D:/Documents/player-comparison/chromedriver.exe')\n",
    "driver.get('https://www.basketball-reference.com/')\n",
    "teams = Select(driver.find_element(By.ID, 'choose_player_team'))\n",
    "file = open('nba.csv', 'w', newline='')\n",
    "writer = csv.writer(file)\n",
    "writer.writerow([\"Team\",\"Name\",\"Position\",\"Height\",\"Weight\",\"Age\",\"PTS\",\"TRB\",\"AST\",\"FG%\",\"FG3%\",\"FT%\"])\n",
    "for team_index in range(2, len(teams.options) - 12):\n",
    "    driver.find_element(By.XPATH, '//*[@id=\"choose_player_team\"]/option[' + str(team_index) + ']').click()\n",
    "    team = Select(driver.find_element(By.ID, 'choose_player_team')).options[team_index - 1].text\n",
    "    players = Select(driver.find_element(By.ID, 'choose_player'))\n",
    "    for player_index in range(2, len(players.options) + 1):\n",
    "        driver.find_element(By.XPATH, '//*[@id=\"choose_player\"]/option[' + str(player_index) + ']').click()\n",
    "        driver.find_element(By.NAME, 'go_button').click()\n",
    "        data = []\n",
    "        try:\n",
    "            stats = driver.find_element(By.XPATH, '//*[@id=\"meta\"]/div[2]').text.split()\n",
    "        except:\n",
    "            stats = driver.find_element(By.XPATH, '//*[@id=\"meta\"]/div').text.split()\n",
    "        data.append(team)\n",
    "        data.append((stats[0] + ' ' + stats[1])\n",
    "                    .replace(u\"\\u0107\", \"c\")\n",
    "                    .replace(u\"\\u010d\", \"c\")\n",
    "                    .replace(u\"\\u0101\", \"a\")\n",
    "                    .replace(u\"\\u010c\", \"C\")\n",
    "                    .replace(u\"\\u015e\", \"S\")\n",
    "                    .replace(u\"\\u016b\", \"u\")\n",
    "                    .replace(u\"\\u0146\", \"n\")\n",
    "                    .replace(u\"\\u0123\", \"g\")\n",
    "                    .replace(u\"\\u00e9\", \"e\")\n",
    "                    .replace(u\"\\u00f6\", \"o\")\n",
    "                    .replace(u\"\\u00fc\", \"u\")\n",
    "                    .replace(u\"\\u00f3\", \"o\")\n",
    "                    .replace(u\"\\u0160\", \"S\")\n",
    "                    .replace(u\"\\u00e1\", \"a\")\n",
    "                    .replace(u\"\\u0161\", \"s\")\n",
    "                    .replace(u\"\\u00fd\", \"y\"))\n",
    "        i = 2\n",
    "        while stats[i] != 'Position:':\n",
    "            i += 1\n",
    "        i += 1\n",
    "        position = ''\n",
    "        while stats[i] != '▪' and stats[i] != 'and':\n",
    "            position += stats[i] + ' '\n",
    "            i += 1\n",
    "            if position[-2] == ',':\n",
    "                position = position[:-1]\n",
    "                break\n",
    "        data.append(position[:-1])\n",
    "        if 'Shoots:' in stats:\n",
    "            while stats[i] != 'Shoots:':\n",
    "                i += 1\n",
    "            i += 2\n",
    "            data.append(stats[i][:-1])\n",
    "            i += 1\n",
    "            data.append(stats[i][:-2])\n",
    "        else:\n",
    "            print(data[0] + ' ' + data[1])\n",
    "            data.append(driver.find_element(By.XPATH, '//*[@id=\"meta\"]/div/p[3]/span[1]').text)\n",
    "            data.append(driver.find_element(By.XPATH, '//*[@id=\"meta\"]/div/p[3]/span[2]').text[:-2])\n",
    "        try:\n",
    "            while stats[i] != '(Age:':\n",
    "                i += 1\n",
    "            i += 1\n",
    "            data.append(stats[i][0:2])\n",
    "        except:\n",
    "            data.append('NA')\n",
    "        try:\n",
    "            data.append(driver.find_element(By.XPATH, '//*[@id=\"info\"]/div[4]/div[2]/div[2]/p[2]').text)\n",
    "            data.append(driver.find_element(By.XPATH, '//*[@id=\"info\"]/div[4]/div[2]/div[3]/p[2]').text)\n",
    "            data.append(driver.find_element(By.XPATH, '//*[@id=\"info\"]/div[4]/div[2]/div[4]/p[2]').text)\n",
    "            data.append(driver.find_element(By.XPATH, '//*[@id=\"info\"]/div[4]/div[3]/div[1]/p[2]').text)\n",
    "            data.append(driver.find_element(By.XPATH, '//*[@id=\"info\"]/div[4]/div[3]/div[2]/p[2]').text)\n",
    "            data.append(driver.find_element(By.XPATH, '//*[@id=\"info\"]/div[4]/div[3]/div[3]/p[2]').text)\n",
    "        except:\n",
    "            driver.get('https://www.basketball-reference.com/')\n",
    "            driver.find_element(By.XPATH, '//*[@id=\"choose_player_team\"]/option[' + str(team_index) + ']').click()\n",
    "            break\n",
    "        try:\n",
    "            img = driver.find_element(By.XPATH, '//*[@id=\"meta\"]/div[1]/img')\n",
    "            name = data[1].split()\n",
    "            path = '/Users/Andrew/PycharmProjects/nbascraping/pictures/' + name[0] + '_' + name[1] + '.png'\n",
    "            with open(path, 'wb') as file:\n",
    "                file.write(img.screenshot_as_png)\n",
    "        except:\n",
    "            pass\n",
    "        writer.writerow(data)\n",
    "        driver.get('https://www.basketball-reference.com/')\n",
    "        driver.find_element(By.XPATH, '//*[@id=\"choose_player_team\"]/option[' + str(team_index) + ']').click()\n",
    "file.close()"
   ]
  },
  {
   "cell_type": "code",
   "execution_count": null,
   "metadata": {
    "collapsed": false,
    "pycharm": {
     "name": "#%%\n"
    }
   },
   "outputs": [],
   "source": []
  }
 ],
 "metadata": {
  "kernelspec": {
   "display_name": "Python 3.8.0 64-bit",
   "language": "python",
   "name": "python3"
  },
  "language_info": {
   "codemirror_mode": {
    "name": "ipython",
    "version": 3
   },
   "file_extension": ".py",
   "mimetype": "text/x-python",
   "name": "python",
   "nbconvert_exporter": "python",
   "pygments_lexer": "ipython3",
   "version": "3.8.0"
  },
  "vscode": {
   "interpreter": {
    "hash": "92db8e5cc7bdb638ff0846ba6daf6443eed122bdb088bfa52b1256def5080051"
   }
  }
 },
 "nbformat": 4,
 "nbformat_minor": 0
}
